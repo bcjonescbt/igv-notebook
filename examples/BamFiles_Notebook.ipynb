{
 "cells": [
  {
   "cell_type": "markdown",
   "metadata": {
    "pycharm": {
     "name": "#%% md\n"
    }
   },
   "source": [
    "#  Jupyter Notebook Examples "
   ]
  },
  {
   "cell_type": "markdown",
   "metadata": {
    "pycharm": {
     "name": "#%% md\n"
    }
   },
   "source": [
    "### Install igv-notebook"
   ]
  },
  {
   "cell_type": "code",
   "execution_count": null,
   "metadata": {
    "pycharm": {
     "name": "#%%\n"
    }
   },
   "outputs": [],
   "source": [
    "!pip install igv-notebook"
   ]
  },
  {
   "cell_type": "markdown",
   "metadata": {},
   "source": [
    "### Check igv.js version"
   ]
  },
  {
   "cell_type": "code",
   "execution_count": null,
   "metadata": {
    "pycharm": {
     "name": "#%%\n"
    }
   },
   "outputs": [],
   "source": [
    "import igv_notebook\n",
    "igv_notebook.igv_version()"
   ]
  },
  {
   "cell_type": "markdown",
   "metadata": {
    "pycharm": {
     "name": "#%% md\n"
    },
    "tags": []
   },
   "source": [
    "### Load by Absolute URL  (all platforms)\n",
    "\n",
    "* Tracks specified in browser config\n",
    "* Tracks loaded from remote URL"
   ]
  },
  {
   "cell_type": "code",
   "execution_count": null,
   "metadata": {
    "pycharm": {
     "name": "#%%\n"
    }
   },
   "outputs": [],
   "source": [
    "import igv_notebook\n",
    "\n",
    "igv_notebook.init()\n",
    "\n",
    "b = igv_notebook.Browser(\n",
    "     {\n",
    "\n",
    "        \"locus\": '1:67,655,272-67,684,468',\n",
    "\n",
    "        \"genome\": \"hg19\",\n",
    "\n",
    "\n",
    "        \"roi\":\n",
    "            [\n",
    "                {\n",
    "                    \"name\": 'ROI set 1',\n",
    "                    \"url\": 'https://s3.amazonaws.com/igv.org.test/data/roi/roi_bed_1.bed',\n",
    "                    \"indexed\": False,\n",
    "                    \"color\": \"rgba(94,255,1,0.25)\"\n",
    "                },\n",
    "\n",
    "\n",
    "                {\n",
    "                    \"name\": \"ROI set 2\",\n",
    "                    \"color\": \"rgba(3,52,249,0.25)\",\n",
    "                    \"features\": [\n",
    "                        {\n",
    "                            chr: \"chr1\",\n",
    "                            start: 67670000,\n",
    "                            end: 67671080\n",
    "                        },\n",
    "                        {\n",
    "                            chr: \"chr1\",\n",
    "                            start: 67672095,\n",
    "                            end: 67673993\n",
    "                        },\n",
    "                        {\n",
    "                            chr: \"chr1\",\n",
    "                            start: 67674681,\n",
    "                            end: 67675237\n",
    "                        },\n",
    "                        {\n",
    "                            chr: \"chr1\",\n",
    "                            start: 67676055,\n",
    "                            end: 67676710\n",
    "                        },\n",
    "                        {\n",
    "                            chr: \"chr1\",\n",
    "                            start: 67677561,\n",
    "                            end: 67677888\n",
    "                        },\n",
    "                        {\n",
    "                            chr: \"chr1\",\n",
    "                            start: 67679263,\n",
    "                            end: 67679394\n",
    "                        },\n",
    "                        {\n",
    "                            chr: \"chr1\",\n",
    "                            start: 67679950,\n",
    "                            end: 67680180\n",
    "                        },\n",
    "                        {\n",
    "                            chr: \"chr1\",\n",
    "                            start: 67681849,\n",
    "                            end: 67682340\n",
    "                        }\n",
    "                    ]\n",
    "                }\n",
    "            ],\n",
    "\n",
    "\n",
    "        \"tracks\":\n",
    "            [\n",
    "                {\n",
    "                    \"name\": 'Some features',\n",
    "                    \"url\": 'https://s3.amazonaws.com/igv.org.test/data/roi/some_features.bed',\n",
    "                    \"indexed\": False,\n",
    "                    \"roi\":\n",
    "                        [\n",
    "                            {\n",
    "                                \"name\": 'Track Based ROI Set',\n",
    "                                \"url\": 'https://s3.amazonaws.com/igv.org.test/data/roi/roi_bed_2.bed',\n",
    "                                \"indexed\": False,\n",
    "                                \"color\": \"rgba(255,1,199,0.25)\"\n",
    "                            },\n",
    "                        ]\n",
    "                }\n",
    "            ]\n",
    "    })\n"
   ]
  },
  {
   "cell_type": "markdown",
   "metadata": {
    "pycharm": {
     "name": "#%% md\n"
    }
   },
   "source": [
    "### Load by server relative URL  (Jupyter Notebook and Lab)\n",
    "\n",
    "* Tracks are loaded after browser creation with ```load_track``` function\n",
    "* Tracks loaded with URL paths.  Paths are relatie to the directoy from which Jupyter Notebook was started.\n"
   ]
  },
  {
   "cell_type": "code",
   "execution_count": null,
   "metadata": {
    "pycharm": {
     "name": "#%%\n"
    }
   },
   "outputs": [],
   "source": [
    "import igv_notebook\n",
    "\n",
    "igv_notebook.init()\n",
    "\n",
    "b = igv_notebook.Browser(\n",
    "    {\n",
    "        \"genome\": \"hg19\",\n",
    "        \"locus\": \"chr22:24,376,166-24,376,456\"\n",
    "    }\n",
    ")\n",
    "\n",
    "\n",
    "b.load_track(\n",
    "    {\n",
    "        \"name\": \"Local BAM\",\n",
    "        \"url\": \"/examples/data/gstt1_sample.bam\",\n",
    "        \"indexURL\": \"/examples/data/gstt1_sample.bam.bai\",\n",
    "        \"format\": \"bam\",\n",
    "        \"type\": \"alignment\"\n",
    "    })\n",
    "\n",
    "\n",
    "b.zoom_in()"
   ]
  },
  {
   "cell_type": "markdown",
   "metadata": {
    "pycharm": {
     "name": "#%% md\n"
    }
   },
   "source": [
    "### Load by notebook relative URL  (Jupyter Notebook Only)\n",
    "\n",
    "* Tracks are loaded after browser creation with ```load_track``` function\n",
    "* Tracks loaded with URL paths.  Paths are relatie to the Jupyter file tree.\n",
    "\n",
    "_**Note: specifying file urls relative to the notebook is not supported for JupyterLab.**_"
   ]
  },
  {
   "cell_type": "code",
   "execution_count": null,
   "metadata": {
    "pycharm": {
     "name": "#%%\n"
    },
    "tags": []
   },
   "outputs": [],
   "source": [
    "import igv_notebook\n",
    "\n",
    "igv_notebook.init()\n",
    "\n",
    "b = igv_notebook.Browser(\n",
    "    {\n",
    "        \"genome\": \"hg19\",\n",
    "        \"locus\": \"chr22:24,376,166-24,376,456\"\n",
    "    }\n",
    ")\n",
    "\n",
    "\n",
    "b.load_track(\n",
    "    {\n",
    "        \"name\": \"Local BAM\",\n",
    "        \"url\": \"data/gstt1_sample.bam\",\n",
    "        \"indexURL\": \"data/gstt1_sample.bam.bai\",\n",
    "        \"format\": \"bam\",\n",
    "        \"type\": \"alignment\"\n",
    "    })\n",
    "\n",
    "\n",
    "b.zoom_in()"
   ]
  },
  {
   "cell_type": "markdown",
   "metadata": {
    "pycharm": {
     "name": "#%% md\n"
    }
   },
   "source": [
    "### Load BAM file by file path  (Jupyter Notebook only)\n",
    "\n",
    "* _**path**_ properties (```path``` and ```indexPath```) are used to specify data files.\n",
    "* _**path**_ properties can be used to access files anywhere on the local filesystem.  This example specifies\n",
    "relative file paths (relative to the notebook) for portability of this demo, however the use of _**path**_\n",
    "properties is not recommended if files are in the Jupyter file space, _**url**_ properties will in general\n",
    "yield better performance."
   ]
  },
  {
   "cell_type": "code",
   "execution_count": null,
   "metadata": {
    "pycharm": {
     "name": "#%%\n"
    }
   },
   "outputs": [],
   "source": [
    "import igv_notebook\n",
    "\n",
    "igv_notebook.init()\n",
    "\n",
    "b = igv_notebook.Browser(\n",
    "    {\n",
    "        \"genome\": \"hg19\",\n",
    "        \"locus\": \"chr22:24,376,166-24,376,456\"\n",
    "    }\n",
    ")\n",
    "\n",
    "\n",
    "b.load_track(\n",
    "    {\n",
    "        \"name\": \"Local BAM\",\n",
    "        \"path\": \"data/gstt1_sample.bam\",\n",
    "        \"indexPath\": \"data/gstt1_sample.bam.bai\",\n",
    "        \"format\": \"bam\",\n",
    "        \"type\": \"alignment\"\n",
    "    })\n",
    "\n",
    "\n",
    "b.zoom_in()"
   ]
  }
 ],
 "metadata": {
  "kernelspec": {
   "display_name": "Python 3 (ipykernel)",
   "language": "python",
   "name": "python3"
  },
  "language_info": {
   "codemirror_mode": {
    "name": "ipython",
    "version": 3
   },
   "file_extension": ".py",
   "mimetype": "text/x-python",
   "name": "python",
   "nbconvert_exporter": "python",
   "pygments_lexer": "ipython3",
   "version": "3.9.1"
  }
 },
 "nbformat": 4,
 "nbformat_minor": 4
}