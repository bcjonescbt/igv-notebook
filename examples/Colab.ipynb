{
  "cells": [
    {
      "cell_type": "markdown",
      "metadata": {
        "id": "view-in-github",
        "colab_type": "text"
      },
      "source": [
        "<a href=\"https://colab.research.google.com/github/igvteam/igv-notebook/blob/main/examples/Colab.ipynb\" target=\"_parent\"><img src=\"https://colab.research.google.com/assets/colab-badge.svg\" alt=\"Open In Colab\"/></a>"
      ]
    },
    {
      "cell_type": "markdown",
      "metadata": {
        "id": "G-1lpQTojgx8",
        "pycharm": {
          "name": "#%% md\n"
        }
      },
      "source": [
        "# Google Colab notebook example"
      ]
    },
    {
      "cell_type": "markdown",
      "source": [
        "### Install igv-notebook - do this first"
      ],
      "metadata": {
        "collapsed": false,
        "pycharm": {
          "name": "#%% md\n"
        },
        "id": "jXvX_oN9frP5"
      }
    },
    {
      "cell_type": "code",
      "execution_count": null,
      "metadata": {
        "id": "kw_pc6R6jgyA",
        "pycharm": {
          "name": "#%%\n"
        }
      },
      "outputs": [],
      "source": [
        "!pip install igv-notebook"
      ]
    },
    {
      "cell_type": "markdown",
      "metadata": {
        "pycharm": {
          "name": "#%% md\n"
        },
        "tags": [],
        "id": "jQH-f2ntjgyB"
      },
      "source": [
        "### Load bam file by URL"
      ]
    },
    {
      "cell_type": "code",
      "execution_count": null,
      "metadata": {
        "pycharm": {
          "name": "#%%\n"
        },
        "id": "UQO4sIlHjgyB"
      },
      "outputs": [],
      "source": [
        "import igv_notebook\n",
        "\n",
        "igv_notebook.init()\n",
        "\n",
        "b = igv_notebook.Browser(\n",
        "    {\n",
        "        \"genome\": \"hg19\",\n",
        "        \"locus\": \"chr22:24,376,166-24,376,456\"\n",
        "    }\n",
        ")\n",
        "\n",
        "\n",
        "b.load_track(\n",
        "    {\n",
        "        \"name\": \"BAM\",\n",
        "        \"url\": \"https://s3.amazonaws.com/igv.org.demo/gstt1_sample.bam\",\n",
        "        \"indexURL\": \"https://s3.amazonaws.com/igv.org.demo/gstt1_sample.bam.bai\",\n",
        "        \"format\": \"bam\",\n",
        "        \"type\": \"alignment\"\n",
        "    })\n",
        "\n",
        "\n",
        "b.zoom_in()\n",
        "\n"
      ]
    },
    {
      "cell_type": "markdown",
      "source": [
        "### Load bam file by file path"
      ],
      "metadata": {
        "id": "kdA2AOlOTiPz"
      }
    },
    {
      "cell_type": "markdown",
      "source": [
        "**Download example files**"
      ],
      "metadata": {
        "id": "YhhaZkrhqnk8",
        "pycharm": {
          "name": "#%% md\n"
        }
      }
    },
    {
      "cell_type": "code",
      "source": [
        "!wget https://github.com/igvteam/igv-notebook/raw/main/examples/data/gstt1_sample.bam\n",
        "!wget https://github.com/igvteam/igv-notebook/raw/main/examples/data/gstt1_sample.bam.bai"
      ],
      "metadata": {
        "id": "t9ePu9oZkEAB",
        "pycharm": {
          "name": "#%%\n"
        }
      },
      "execution_count": null,
      "outputs": []
    },
    {
      "cell_type": "markdown",
      "source": [
        "**Load by file path (note use of \"path\" and \"indexPath\")**"
      ],
      "metadata": {
        "id": "GEbY_8Y2qtZK",
        "pycharm": {
          "name": "#%% md\n"
        }
      }
    },
    {
      "cell_type": "code",
      "execution_count": null,
      "metadata": {
        "pycharm": {
          "name": "#%%\n"
        },
        "tags": [],
        "id": "0bTMn-GYjgyD"
      },
      "outputs": [],
      "source": [
        "import igv_notebook\n",
        "\n",
        "igv_notebook.init()\n",
        "\n",
        "b = igv_notebook.Browser(\n",
        "    {\n",
        "        \"genome\": \"hg19\",\n",
        "        \"locus\": \"chr22:24,376,166-24,376,456\",\n",
        "        \"tracks\": [{\n",
        "            \"name\": \"Local BAM\",\n",
        "            \"path\": \"/content/gstt1_sample.bam\",\n",
        "            \"indexPath\": \"/content/gstt1_sample.bam.bai\",\n",
        "            \"format\": \"bam\",\n",
        "            \"type\": \"alignment\"\n",
        "        }]\n",
        "    })\n",
        "\n",
        "\n",
        "b.zoom_in()\n",
        "\n"
      ]
    },
    {
      "cell_type": "markdown",
      "source": [
        "### Define a custom reference genome"
      ],
      "metadata": {
        "id": "MDy472lZUU8x"
      }
    },
    {
      "cell_type": "markdown",
      "source": [
        "#### 1. Local fasta file"
      ],
      "metadata": {
        "id": "HqyjSe2DVfqI"
      }
    },
    {
      "cell_type": "markdown",
      "source": [
        "**Download example files**"
      ],
      "metadata": {
        "id": "FL70aG1sU_Y_"
      }
    },
    {
      "cell_type": "code",
      "source": [
        "!wget https://github.com/igvteam/igv-notebook/raw/main/examples/data/NC_045512v2.fa\n",
        "!wget https://github.com/igvteam/igv-notebook/raw/main/examples/data/NC_045512v2.fa.fai"
      ],
      "metadata": {
        "id": "YWZsvccQVDO-"
      },
      "execution_count": null,
      "outputs": []
    },
    {
      "cell_type": "markdown",
      "source": [
        "**Define custom reference**\n",
        "\n",
        "Local files -- note use of \"fastaPath\" and \"indexPath\""
      ],
      "metadata": {
        "id": "S5wz7SIlVLk1"
      }
    },
    {
      "cell_type": "code",
      "source": [
        "import igv_notebook\n",
        "\n",
        "igv_notebook.init()\n",
        "\n",
        "b = igv_notebook.Browser(\n",
        "    {\n",
        "        \"reference\": {\n",
        "            \"id\": \"NC_045523v3\",\n",
        "            \"name\": \"SARS-COV-2\",\n",
        "            \"fastaPath\": \"/content/NC_045512v2.fa\",\n",
        "            \"indexPath\": \"/content/NC_045512v2.fa.fai\"\n",
        "        },\n",
        "        \"locus\": \"NC_045512v2:6,684-6,722\"\n",
        "    })\n",
        "\n"
      ],
      "metadata": {
        "id": "n71falbxVZ92"
      },
      "execution_count": null,
      "outputs": []
    },
    {
      "cell_type": "markdown",
      "source": [
        "#### 2. Remote fasta file"
      ],
      "metadata": {
        "id": "FkgaRxdIVqIQ"
      }
    },
    {
      "cell_type": "markdown",
      "source": [
        "**Define custom reference**\n",
        "\n",
        "Remote files -- note use of \"fastaURL\" and \"indexURL\""
      ],
      "metadata": {
        "id": "m36dDGLiWGDP"
      }
    },
    {
      "cell_type": "markdown",
      "source": [],
      "metadata": {
        "id": "8O2ZLpQWWBN7"
      }
    },
    {
      "cell_type": "code",
      "source": [
        "import igv_notebook\n",
        "\n",
        "igv_notebook.init()\n",
        "\n",
        "b = igv_notebook.Browser(\n",
        "    {\n",
        "        \"reference\": {\n",
        "            \"id\": \"hg19_1kg\",\n",
        "            \"name\": \"Human (GRCh37/hg19)\",\n",
        "            \"fastaURL\": \"https://storage.googleapis.com/genomics-public-data/references/Homo_sapiens_assembly19_1000genomes_decoy/Homo_sapiens_assembly19_1000genomes_decoy.fasta\",\n",
        "            \"indexURL\": \"https://storage.googleapis.com/genomics-public-data/references/Homo_sapiens_assembly19_1000genomes_decoy/Homo_sapiens_assembly19_1000genomes_decoy.fasta.fai\",\n",
        "        },\n",
        "        \"locus\": \"chr22:24,376,277-24,376,350\"\n",
        "    })\n",
        "\n"
      ],
      "metadata": {
        "id": "UTQ8y_OLVvtd"
      },
      "execution_count": null,
      "outputs": []
    },
    {
      "cell_type": "markdown",
      "source": [
        "### Embedded features\n",
        "\n",
        "**Example illustrates embedding features directly in an IGV track configuration, as opposed to loading data from a file.**"
      ],
      "metadata": {
        "id": "XIlZpTB2WVGw"
      }
    },
    {
      "cell_type": "code",
      "source": [
        "import igv_notebook\n",
        "\n",
        "igv_notebook.init()\n",
        "\n",
        "b = igv_notebook.Browser({\n",
        "    \"genome\": \"hg19\",\n",
        "    \"locus\": \"chr20:1,233,645-1,235,507\"\n",
        "})\n",
        "\n",
        "b.load_track({\n",
        "    \"name\": \"Copy number\",\n",
        "    \"type\": \"seg\",\n",
        "    \"displayMode\": \"EXPANDED\",\n",
        "    \"height\": 50,\n",
        "    \"isLog\": True,\n",
        "    \"features\": [\n",
        "        {\n",
        "            \"chr\": \"chr20\",\n",
        "            \"start\": 1233820,\n",
        "            \"end\": 1235000,\n",
        "            \"value\": 0.8239,\n",
        "            \"sample\": \"TCGA-OR-A5J2-01\"\n",
        "        },\n",
        "        {\n",
        "            \"chr\": \"chr20\",\n",
        "            \"start\": 1234500,\n",
        "            \"end\": 1235180,\n",
        "            \"value\": -0.8391,\n",
        "            \"sample\": \"TCGA-OR-A5J3-01\"\n",
        "        }\n",
        "    ]\n",
        "})\n",
        "\n",
        "b.load_track({\n",
        "    \"name\": \"Annotations\",\n",
        "    \"type\": \"annotation\",\n",
        "    \"displayMode\": \"EXPANDED\",\n",
        "    \"features\": [\n",
        "        {\n",
        "            \"chr\": \"chr20\",\n",
        "            \"start\": 1233820,\n",
        "            \"end\": 1234000,\n",
        "            \"name\": 'Feature 1',\n",
        "            \"color\": 'rgb(100,100,0)'\n",
        "        },\n",
        "        {\n",
        "            \"chr\": \"chr20\",\n",
        "            \"start\": 1234500,\n",
        "            \"end\": 1235180,\n",
        "            \"name\": 'Feature 2',\n",
        "            \"color\": \"red\"\n",
        "        }\n",
        "    ]\n",
        "})\n"
      ],
      "metadata": {
        "id": "RULeqioHWe6_"
      },
      "execution_count": null,
      "outputs": []
    },
    {
      "cell_type": "markdown",
      "source": [
        "### Embedded data URI"
      ],
      "metadata": {
        "id": "MG104yglWpsi"
      }
    },
    {
      "cell_type": "code",
      "source": [
        "import igv_notebook\n",
        "\n",
        "igv_notebook.init()\n",
        "\n",
        "b = igv_notebook.Browser(\n",
        "    {\"reference\": \n",
        "      {\n",
        "         \"fastaURL\": \"data:application/gzip;base64,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\"\n",
        "      }\n",
        "    }   \n",
        ")\n",
        "\n",
        "\n",
        "b.load_track(\n",
        "{\n",
        "    \"name\": \"Annotations\",\n",
        "    \"url\": \"data:application/gzip;base64,H4sIAL2B61oC/6VVy24UQQw8N79CJ2q/bSFOCUK5cAEk/v9LKM+S7AxiQhZW2larH+Vyudzz8PRwd/f4/YcOd61RIT6eHj8+PC/ff/ry9dvqn4Wl1D1/uO5h1vuft/0VpcL30vtjjfc7wDV4MPEklrEml+u7F5BBuDooXeo0MHvSDYF3iIhMw3JyLp1kCC42SdaklEnuk5dMZp/U+ywYMjEBVw8wpSmMA4pLhjW5/JHUaAgsp5PMTM1Z5NiRjFneZ1d0GFq4T+SFOa/o4Lowl2LEUVKcVCXCmAujaXOwSJzxRTjvqt5U3feiYbUGRZmcqiaidU9vV20HuYYNbvqdSKuDpDkDSYvQNOhWFdih2HNCwowRYpxyoiVyC6cd5GaiAJfk5nHwUKAMr3oIWoauC/KbIu8QEXiNaCX+zz/2u382zIJhIDVNNsBw9JX0mtp20uSaxqTTTWrGAmhw0gwDF3BeM1HomTAfDGg6y9Jm5bKDWVA64XylLKV8S4O9AHZRCP2lumWE6SGulbSj4jyywVY3mfQK2SZNvwrrUI740phTUYJk3drw2DcFk6dEnFJyW3aTGFfIpkTdus3pV98EUT96kdO6SBr9HOz7Jm15W03XuUpiegOlHeJmXojwL+ZVmNf/YF7dSt2Y0s+XWzclTAmfOq5AdTEKOLjrYPCyJbC8S+IuPvEYQhYuDP0KJgfBxqtgYxgaVl47dRjeRBKiRmfymHIeK/Z84KIP48OV/eXaAFugPehmYYYitXlHqQ7RfTvIduoXvIZsBwv/PfoVFMWBgwiTm3L27XN8Y9RjzhqxS/knGgV00ggIAAA=\",\n",
        "    \"displayMode\": \"SQUISHED\",\n",
        "    \"indexed\": False,\n",
        "    \"type\": \"annotation\",\n",
        "    \"format\": \"bed\"\n",
        "})\n",
        "\n",
        "b.search(\"CIC--DUX4:10,796-10,844\")\n"
      ],
      "metadata": {
        "id": "7YZfuUaQW0v3"
      },
      "execution_count": null,
      "outputs": []
    },
    {
      "cell_type": "markdown",
      "source": [
        "### Regions of Interest (ROI)"
      ],
      "metadata": {
        "id": "cOakB-0RW4zX"
      }
    },
    {
      "cell_type": "markdown",
      "source": [
        "#### Example 1: Specify regions of interest in browser configuration"
      ],
      "metadata": {
        "id": "Sg5noedzXAG_"
      }
    },
    {
      "cell_type": "markdown",
      "source": [
        "**In this example three sets of ROI are configured**\n",
        "\n",
        "ROI set 1 - a global ROI set loaded from a BED file\n",
        "ROI set 2 - a global ROI set specified inline\n",
        "ROI set 3 - a track specific ROI set"
      ],
      "metadata": {
        "id": "mGNPQ2ghXb4i"
      }
    },
    {
      "cell_type": "code",
      "source": [
        "import igv_notebook\n",
        "\n",
        "igv_notebook.init()\n",
        "\n",
        "b = igv_notebook.Browser(\n",
        "    {\n",
        "        \"locus\": \"1:67,655,272-67,684,468\",\n",
        "        \"genome\": \"hg19\",\n",
        "        \"roi\": [\n",
        "            {\n",
        "                \"name\": \"ROI set 1\",\n",
        "                \"url\": \"https://s3.amazonaws.com/igv.org.test/data/roi/roi_bed_1.bed\",\n",
        "                \"indexed\": False,\n",
        "                \"color\": \"rgba(94,255,1,0.25)\"\n",
        "            },\n",
        "            {\n",
        "                \"name\": \"ROI set 2\",\n",
        "                \"color\": \"rgba(3,52,249,0.25)\",\n",
        "                \"features\": [\n",
        "                    {\n",
        "                        \"chr\": \"chr1\",\n",
        "                        \"start\": 67670000,\n",
        "                        \"end\": 67671080\n",
        "                    },\n",
        "                    {\n",
        "                        \"chr\": \"chr1\",\n",
        "                        \"start\": 67672095,\n",
        "                        \"end\": 67673993\n",
        "                    },\n",
        "                    {\n",
        "                        \"chr\": \"chr1\",\n",
        "                        \"start\": 67674681,\n",
        "                        \"end\": 67675237\n",
        "                    },\n",
        "                    {\n",
        "                        \"chr\": \"chr1\",\n",
        "                        \"start\": 67676055,\n",
        "                        \"end\": 67676710\n",
        "                    },\n",
        "                    {\n",
        "                        \"chr\": \"chr1\",\n",
        "                        \"start\": 67677561,\n",
        "                        \"end\": 67677888\n",
        "                    },\n",
        "                    {\n",
        "                        \"chr\": \"chr1\",\n",
        "                        \"start\": 67679263,\n",
        "                        \"end\": 67679394\n",
        "                    },\n",
        "                    {\n",
        "                        \"chr\": \"chr1\",\n",
        "                        \"start\": 67679950,\n",
        "                        \"end\": 67680180\n",
        "                    },\n",
        "                    {\n",
        "                        \"chr\": \"chr1\",\n",
        "                        \"start\": 67681849,\n",
        "                        \"end\": 67682340\n",
        "                    }\n",
        "                ]\n",
        "            }\n",
        "        ],\n",
        "        \"tracks\": [\n",
        "            {\n",
        "                \"name\": \"Some features\",\n",
        "                \"url\": \"https://s3.amazonaws.com/igv.org.test/data/roi/some_features.bed\",\n",
        "                \"indexed\": False,\n",
        "                \"roi\": [\n",
        "                    {\n",
        "                        \"name\": \"ROI set 3\",\n",
        "                        \"url\": \"https://s3.amazonaws.com/igv.org.test/data/roi/roi_bed_2.bed\",\n",
        "                        \"indexed\": False,\n",
        "                        \"color\": \"rgba(255,1,199,0.25)\"\n",
        "                    }\n",
        "                ]\n",
        "            }\n",
        "        ]\n",
        "    }\n",
        ")\n",
        "\n",
        "\n",
        "b.zoom_in()\n"
      ],
      "metadata": {
        "id": "6zjaDJlHXN7I"
      },
      "execution_count": null,
      "outputs": []
    },
    {
      "cell_type": "markdown",
      "source": [
        "#### Example 2 - Load regions of interest after browser creation"
      ],
      "metadata": {
        "id": "qvVpQpRoXgrk"
      }
    },
    {
      "cell_type": "markdown",
      "source": [
        "In this example regions of interest are created using the \"load_roi\" function"
      ],
      "metadata": {
        "id": "9moAls4mXrRm"
      }
    },
    {
      "cell_type": "code",
      "source": [
        "import igv_notebook\n",
        "\n",
        "igv_notebook.init()\n",
        "\n",
        "b = igv_notebook.Browser(\n",
        "    {\n",
        "        \"locus\": \"chr1:67,646,911-67,676,107\",\n",
        "        \"genome\": \"hg19\",\n",
        "        \"tracks\": [\n",
        "            {\n",
        "                \"name\": \"Some Features\",\n",
        "                \"url\": \"https://s3.amazonaws.com/igv.org.test/data/roi/some_features.bed\",\n",
        "                \"indexed\": False\n",
        "            }\n",
        "        ]\n",
        "    }\n",
        "\n",
        ")\n",
        "\n",
        "\n",
        "b.load_roi(\n",
        "    [\n",
        "        {\n",
        "            \"color\": \"rgba(237,72,155,0.25)\",\n",
        "            \"features\": [\n",
        "                {\n",
        "                    \"chr\": \"chr1\",\n",
        "                    \"start\": 67655415,\n",
        "                    \"end\": 67655611\n",
        "                },\n",
        "                {\n",
        "                    \"chr\": \"chr1\",\n",
        "                    \"start\": 67664225,\n",
        "                    \"end\": 67666281\n",
        "                }\n",
        "            ]\n",
        "        }\n",
        "    ]\n",
        ")\n"
      ],
      "metadata": {
        "id": "yscA_bOkX1cq"
      },
      "execution_count": null,
      "outputs": []
    }
  ],
  "metadata": {
    "kernelspec": {
      "display_name": "Python 3 (ipykernel)",
      "language": "python",
      "name": "python3"
    },
    "language_info": {
      "codemirror_mode": {
        "name": "ipython",
        "version": 3
      },
      "file_extension": ".py",
      "mimetype": "text/x-python",
      "name": "python",
      "nbconvert_exporter": "python",
      "pygments_lexer": "ipython3",
      "version": "3.9.1"
    },
    "colab": {
      "provenance": [],
      "include_colab_link": true
    }
  },
  "nbformat": 4,
  "nbformat_minor": 0
}