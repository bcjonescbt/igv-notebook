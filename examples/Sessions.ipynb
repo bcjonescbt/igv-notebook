{
 "cells": [
  {
   "cell_type": "markdown",
   "source": [
    "# IGV session examples\n",
    "\n",
    "**Example illustrates loading igv.js sessions**"
   ],
   "metadata": {
    "collapsed": false,
    "pycharm": {
     "name": "#%% md\n"
    }
   }
  },
  {
   "cell_type": "code",
   "execution_count": null,
   "outputs": [],
   "source": [
    "!pip install igv-notebook"
   ],
   "metadata": {
    "collapsed": false,
    "pycharm": {
     "name": "#%%\n"
    }
   }
  },
  {
   "cell_type": "markdown",
   "source": [
    "## Load session object"
   ],
   "metadata": {
    "collapsed": false,
    "pycharm": {
     "name": "#%% md\n"
    }
   }
  },
  {
   "cell_type": "code",
   "execution_count": null,
   "outputs": [],
   "source": [
    "import igv_notebook\n",
    "\n",
    "igv_notebook.init()\n",
    "\n",
    "b = igv_notebook.Browser({\n",
    "})\n",
    "\n",
    "b.load_session({\n",
    "    \"reference\": {\n",
    "        \"id\": \"hg19\",\n",
    "        \"name\": \"Human (CRCh37/hg19)\",\n",
    "        \"fastaURL\": \"https://s3.amazonaws.com/igv.broadinstitute.org/genomes/seq/hg19/hg19.fasta\",\n",
    "        \"indexURL\": \"https://s3.amazonaws.com/igv.broadinstitute.org/genomes/seq/hg19/hg19.fasta.fai\",\n",
    "        \"cytobandURL\": \"https://s3.amazonaws.com/igv.broadinstitute.org/genomes/seq/hg19/cytoBand.txt\"\n",
    "    },\n",
    "    \"locus\": \"chr8:128,746,315-128,755,680\",\n",
    "    \"tracks\": [\n",
    "\n",
    "        {\n",
    "            \"url\": \"https://www.encodeproject.org/files/ENCFF000ATR/@@download/ENCFF000ATR.bigWig\",\n",
    "            \"color\": \"#018448\",\n",
    "            \"name\": \"GM12878 H3K4me3  signal ENCSR000AKA\",\n",
    "            \"format\": \"bigwig\",\n",
    "            \"type\": \"wig\",\n",
    "            \"filename\": \"ENCFF000ATR.bigWig\"\n",
    "        }\n",
    "    ]\n",
    "})\n",
    "\n"
   ],
   "metadata": {
    "collapsed": false,
    "pycharm": {
     "name": "#%%\n"
    }
   }
  },
  {
   "cell_type": "markdown",
   "source": [
    "## Load session by URL"
   ],
   "metadata": {
    "collapsed": false,
    "pycharm": {
     "name": "#%% md\n"
    }
   }
  },
  {
   "cell_type": "code",
   "execution_count": null,
   "outputs": [],
   "source": [
    "import igv_notebook\n",
    "\n",
    "igv_notebook.init()\n",
    "\n",
    "b = igv_notebook.Browser({})\n",
    "\n",
    "b.load_session(url=\"https://igv-genepattern-org.s3.amazonaws.com/test/session.json\")"
   ],
   "metadata": {
    "collapsed": false,
    "pycharm": {
     "name": "#%%\n"
    }
   }
  },
  {
   "cell_type": "markdown",
   "source": [
    "## Load session by file path \n",
    "\n",
    "**Jupyter Notebook and Colab only.  Will not work with Jupyter Lab**"
   ],
   "metadata": {
    "collapsed": false,
    "pycharm": {
     "name": "#%% md\n"
    }
   }
  },
  {
   "cell_type": "code",
   "execution_count": null,
   "outputs": [],
   "source": [
    "import igv_notebook\n",
    "\n",
    "igv_notebook.init()\n",
    "\n",
    "b = igv_notebook.Browser({})\n",
    "\n",
    "b.load_session(path=\"data/session.json\")"
   ],
   "metadata": {
    "collapsed": false,
    "pycharm": {
     "name": "#%%\n"
    }
   }
  },
  {
   "cell_type": "markdown",
   "metadata": {},
   "source": [
    "## Load session by file path \n",
    "\n",
    "**Jupyter Notebook and Colab only.  Will not work with Jupyter Lab**"
   ]
  },
  {
   "cell_type": "code",
   "execution_count": null,
   "metadata": {
    "scrolled": true
   },
   "outputs": [],
   "source": [
    "import igv_notebook\n",
    "\n",
    "igv_notebook.init()\n",
    "\n",
    "b = igv_notebook.Browser({})\n",
    "\n",
    "b.load_session(path=\"data/session.json\")"
   ]
  }
 ],
 "metadata": {
  "kernelspec": {
   "display_name": "Python 3 (ipykernel)",
   "language": "python",
   "name": "python3"
  },
  "language_info": {
   "codemirror_mode": {
    "name": "ipython",
    "version": 3
   },
   "file_extension": ".py",
   "mimetype": "text/x-python",
   "name": "python",
   "nbconvert_exporter": "python",
   "pygments_lexer": "ipython3",
   "version": "3.9.1"
  }
 },
 "nbformat": 4,
 "nbformat_minor": 2
}