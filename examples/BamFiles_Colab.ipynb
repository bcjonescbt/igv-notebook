{
  "cells": [
    {
      "cell_type": "markdown",
      "metadata": {
        "id": "view-in-github",
        "colab_type": "text"
      },
      "source": [
        "<a href=\"https://colab.research.google.com/github/igvteam/igv-notebook/blob/main/examples/BamFiles_Colab.ipynb\" target=\"_parent\"><img src=\"https://colab.research.google.com/assets/colab-badge.svg\" alt=\"Open In Colab\"/></a>"
      ]
    },
    {
      "cell_type": "markdown",
      "metadata": {
        "id": "G-1lpQTojgx8",
        "pycharm": {
          "name": "#%% md\n"
        }
      },
      "source": [
        "# Google Colab notebook example"
      ]
    },
    {
      "cell_type": "markdown",
      "source": [
        "### Install igv-notebook"
      ],
      "metadata": {
        "collapsed": false,
        "pycharm": {
          "name": "#%% md\n"
        },
        "id": "jXvX_oN9frP5"
      }
    },
    {
      "cell_type": "code",
      "execution_count": null,
      "metadata": {
        "id": "kw_pc6R6jgyA",
        "pycharm": {
          "name": "#%%\n"
        }
      },
      "outputs": [],
      "source": [
        "!pip install igv-notebook"
      ]
    },
    {
      "cell_type": "markdown",
      "metadata": {
        "pycharm": {
          "name": "#%% md\n"
        },
        "tags": [],
        "id": "jQH-f2ntjgyB"
      },
      "source": [
        "### Load by URL"
      ]
    },
    {
      "cell_type": "code",
      "execution_count": null,
      "metadata": {
        "pycharm": {
          "name": "#%%\n"
        },
        "id": "UQO4sIlHjgyB"
      },
      "outputs": [],
      "source": [
        "import igv_notebook\n",
        "\n",
        "igv_notebook.init()\n",
        "\n",
        "b = igv_notebook.Browser(\n",
        "    {\n",
        "        \"genome\": \"hg19\",\n",
        "        \"locus\": \"chr22:24,376,166-24,376,456\"\n",
        "    }\n",
        ")\n",
        "\n",
        "\n",
        "b.load_track(\n",
        "    {\n",
        "        \"name\": \"BAM\",\n",
        "        \"url\": \"https://s3.amazonaws.com/igv.org.demo/gstt1_sample.bam\",\n",
        "        \"indexURL\": \"https://s3.amazonaws.com/igv.org.demo/gstt1_sample.bam.bai\",\n",
        "        \"format\": \"bam\",\n",
        "        \"type\": \"alignment\"\n",
        "    })\n",
        "\n",
        "\n",
        "b.zoom_in()\n",
        "\n"
      ]
    },
    {
      "cell_type": "code",
      "execution_count": null,
      "outputs": [],
      "source": [
        "### Load by file path"
      ],
      "metadata": {
        "pycharm": {
          "name": "#%%\n"
        },
        "id": "r2myFdYsfrP8"
      }
    },
    {
      "cell_type": "markdown",
      "source": [
        "**Download example files**"
      ],
      "metadata": {
        "id": "YhhaZkrhqnk8",
        "pycharm": {
          "name": "#%% md\n"
        }
      }
    },
    {
      "cell_type": "code",
      "source": [
        "!wget https://github.com/igvteam/igv-notebook/raw/main/examples/data/gstt1_sample.bam\n",
        "!wget https://github.com/igvteam/igv-notebook/raw/main/examples/data/gstt1_sample.bam.bai"
      ],
      "metadata": {
        "id": "t9ePu9oZkEAB",
        "pycharm": {
          "name": "#%%\n"
        }
      },
      "execution_count": null,
      "outputs": []
    },
    {
      "cell_type": "markdown",
      "source": [
        "**Load by file path (note use of \"path\" and \"indexPath\")**"
      ],
      "metadata": {
        "id": "GEbY_8Y2qtZK",
        "pycharm": {
          "name": "#%% md\n"
        }
      }
    },
    {
      "cell_type": "code",
      "execution_count": null,
      "metadata": {
        "pycharm": {
          "name": "#%%\n"
        },
        "tags": [],
        "id": "0bTMn-GYjgyD"
      },
      "outputs": [],
      "source": [
        "import igv_notebook\n",
        "\n",
        "igv_notebook.init()\n",
        "\n",
        "b = igv_notebook.Browser(\n",
        "    {\n",
        "        \"genome\": \"hg19\",\n",
        "        \"locus\": \"chr22:24,376,166-24,376,456\",\n",
        "        \"tracks\": [{\n",
        "            \"name\": \"Local BAM\",\n",
        "            \"path\": \"/content/gstt1_sample.bam\",\n",
        "            \"indexPath\": \"/content/gstt1_sample.bam.bai\",\n",
        "            \"format\": \"bam\",\n",
        "            \"type\": \"alignment\"\n",
        "        }]\n",
        "    })\n",
        "\n",
        "\n",
        "b.zoom_in()\n",
        "\n"
      ]
    }
  ],
  "metadata": {
    "kernelspec": {
      "display_name": "Python 3 (ipykernel)",
      "language": "python",
      "name": "python3"
    },
    "language_info": {
      "codemirror_mode": {
        "name": "ipython",
        "version": 3
      },
      "file_extension": ".py",
      "mimetype": "text/x-python",
      "name": "python",
      "nbconvert_exporter": "python",
      "pygments_lexer": "ipython3",
      "version": "3.9.1"
    },
    "colab": {
      "provenance": [],
      "include_colab_link": true
    }
  },
  "nbformat": 4,
  "nbformat_minor": 0
}