{
 "cells": [
  {
   "cell_type": "markdown",
   "metadata": {
    "pycharm": {
     "name": "#%% md\n"
    }
   },
   "source": [
    "#  Region of Interest (ROI) Examples "
   ]
  },
  {
   "cell_type": "markdown",
   "metadata": {
    "pycharm": {
     "name": "#%% md\n"
    }
   },
   "source": [
    "### Install igv-notebook"
   ]
  },
  {
   "cell_type": "code",
   "execution_count": null,
   "metadata": {
    "pycharm": {
     "name": "#%%\n"
    },
    "scrolled": true
   },
   "outputs": [],
   "source": [
    "!pip install igv-notebook"
   ]
  },
  {
   "cell_type": "markdown",
   "metadata": {
    "pycharm": {
     "name": "#%% md\n"
    }
   },
   "source": [
    "### Specify regions of interest (ROI) in browser configuration\n",
    "\n",
    "In this example three sets of ROI are configured\n",
    "\n",
    "* ROI set 1 - a global ROI set loaded from a BED file\n",
    "* ROI set 2 - a global ROI set specified inline\n",
    "* ROI set 3 - a track specific ROI set"
   ]
  },
  {
   "cell_type": "code",
   "execution_count": null,
   "metadata": {
    "pycharm": {
     "name": "#%%\n"
    },
    "scrolled": true
   },
   "outputs": [],
   "source": [
    "import igv_notebook\n",
    "\n",
    "igv_notebook.init()\n",
    "\n",
    "b = igv_notebook.Browser(\n",
    "    {\n",
    "        \"locus\": \"1:67,655,272-67,684,468\",\n",
    "        \"genome\": \"hg19\",\n",
    "        \"roi\": [\n",
    "            {\n",
    "                \"name\": \"ROI set 1\",\n",
    "                \"url\": \"https://s3.amazonaws.com/igv.org.test/data/roi/roi_bed_1.bed\",\n",
    "                \"indexed\": False,\n",
    "                \"color\": \"rgba(94,255,1,0.25)\"\n",
    "            },\n",
    "            {\n",
    "                \"name\": \"ROI set 2\",\n",
    "                \"color\": \"rgba(3,52,249,0.25)\",\n",
    "                \"features\": [\n",
    "                    {\n",
    "                        \"chr\": \"chr1\",\n",
    "                        \"start\": 67670000,\n",
    "                        \"end\": 67671080\n",
    "                    },\n",
    "                    {\n",
    "                        \"chr\": \"chr1\",\n",
    "                        \"start\": 67672095,\n",
    "                        \"end\": 67673993\n",
    "                    },\n",
    "                    {\n",
    "                        \"chr\": \"chr1\",\n",
    "                        \"start\": 67674681,\n",
    "                        \"end\": 67675237\n",
    "                    },\n",
    "                    {\n",
    "                        \"chr\": \"chr1\",\n",
    "                        \"start\": 67676055,\n",
    "                        \"end\": 67676710\n",
    "                    },\n",
    "                    {\n",
    "                        \"chr\": \"chr1\",\n",
    "                        \"start\": 67677561,\n",
    "                        \"end\": 67677888\n",
    "                    },\n",
    "                    {\n",
    "                        \"chr\": \"chr1\",\n",
    "                        \"start\": 67679263,\n",
    "                        \"end\": 67679394\n",
    "                    },\n",
    "                    {\n",
    "                        \"chr\": \"chr1\",\n",
    "                        \"start\": 67679950,\n",
    "                        \"end\": 67680180\n",
    "                    },\n",
    "                    {\n",
    "                        \"chr\": \"chr1\",\n",
    "                        \"start\": 67681849,\n",
    "                        \"end\": 67682340\n",
    "                    }\n",
    "                ]\n",
    "            }\n",
    "        ],\n",
    "        \"tracks\": [\n",
    "            {\n",
    "                \"name\": \"Some features\",\n",
    "                \"url\": \"https://s3.amazonaws.com/igv.org.test/data/roi/some_features.bed\",\n",
    "                \"indexed\": False,\n",
    "                \"roi\": [\n",
    "                    {\n",
    "                        \"name\": \"ROI set 3\",\n",
    "                        \"url\": \"https://s3.amazonaws.com/igv.org.test/data/roi/roi_bed_2.bed\",\n",
    "                        \"indexed\": False,\n",
    "                        \"color\": \"rgba(255,1,199,0.25)\"\n",
    "                    }\n",
    "                ]\n",
    "            }\n",
    "        ]\n",
    "    }\n",
    ")\n"
   ]
  },
  {
   "cell_type": "markdown",
   "metadata": {
    "pycharm": {
     "name": "#%% md\n"
    }
   },
   "source": [
    "### Load regions of interest after browser configuration\n",
    "\n",
    "* Regions of interest are loaded after browser creation with ```load_roi``` function\n"
   ]
  },
  {
   "cell_type": "code",
   "execution_count": null,
   "metadata": {
    "pycharm": {
     "name": "#%%\n"
    },
    "scrolled": true
   },
   "outputs": [],
   "source": [
    "import igv_notebook\n",
    "\n",
    "igv_notebook.init()\n",
    "\n",
    "b = igv_notebook.Browser(\n",
    "    {\n",
    "        \"locus\": \"chr1:67,646,911-67,676,107\",\n",
    "        \"genome\": \"hg19\",\n",
    "        \"tracks\": [\n",
    "            {\n",
    "                \"name\": \"Some Features\",\n",
    "                \"url\": \"https://s3.amazonaws.com/igv.org.test/data/roi/some_features.bed\",\n",
    "                \"indexed\": False\n",
    "            }\n",
    "        ]\n",
    "    }\n",
    "\n",
    ")\n",
    "\n",
    "\n",
    "b.load_roi(\n",
    "    [\n",
    "        {\n",
    "            \"color\": \"rgba(237,72,155,0.25)\",\n",
    "            \"features\": [\n",
    "                {\n",
    "                    \"chr\": \"chr1\",\n",
    "                    \"start\": 67655415,\n",
    "                    \"end\": 67655611\n",
    "                },\n",
    "                {\n",
    "                    \"chr\": \"chr1\",\n",
    "                    \"start\": 67664225,\n",
    "                    \"end\": 67666281\n",
    "                }\n",
    "            ]\n",
    "        }\n",
    "    ]\n",
    ")\n"
   ]
  },
  {
   "cell_type": "markdown",
   "metadata": {
    "pycharm": {
     "name": "#%% md\n"
    }
   },
   "source": [
    "**Clear ROIs**"
   ]
  },
  {
   "cell_type": "code",
   "execution_count": null,
   "metadata": {
    "pycharm": {
     "name": "#%%\n"
    },
    "scrolled": true
   },
   "outputs": [],
   "source": [
    "import igv_notebook\n",
    "b.clear_rois()"
   ]
  }
 ],
 "metadata": {
  "kernelspec": {
   "display_name": "Python 3 (ipykernel)",
   "language": "python",
   "name": "python3"
  },
  "language_info": {
   "codemirror_mode": {
    "name": "ipython",
    "version": 3
   },
   "file_extension": ".py",
   "mimetype": "text/x-python",
   "name": "python",
   "nbconvert_exporter": "python",
   "pygments_lexer": "ipython3",
   "version": "3.9.1"
  }
 },
 "nbformat": 4,
 "nbformat_minor": 4
}